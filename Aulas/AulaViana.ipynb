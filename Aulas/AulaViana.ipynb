{
 "cells": [
  {
   "cell_type": "markdown",
   "id": "769e9e74-1372-4c70-a318-41a67c6066a1",
   "metadata": {},
   "source": [
    "### Series de taylor\n",
    "\n",
    "\\begin{align}\n",
    "    \\exp(x) = \\sum{\\frac{x^n}{n!}} \\\\\n",
    "    \\sin(x) = \\sum{(-1)^n \\frac{x^{2n+1}}{(2n+1)!}}\\\\\n",
    "    \\end{align}"
   ]
  },
  {
   "cell_type": "code",
   "execution_count": 14,
   "id": "56375421-bf21-42ac-93b1-ebf494ad5700",
   "metadata": {},
   "outputs": [
    {
     "name": "stdout",
     "output_type": "stream",
     "text": [
      "24\n",
      "22026.46579480671 22026.465794806718 3.3306690738754696e-16\n"
     ]
    }
   ],
   "source": [
    "import numpy as np\n",
    "import scipy\n",
    "\n",
    "\n",
    "x = 10\n",
    "M = 50\n",
    "soma = 0\n",
    "\n",
    "def fatorial(n):\n",
    "    fator = 1\n",
    "    for i in range(1,n+1):\n",
    "        fator *= i\n",
    "    return fator\n",
    "\n",
    "\n",
    "print(fatorial(4))\n",
    "for n in range(M):\n",
    "    soma += x**n/fatorial(n) #utilizar a função do scipy para o fatorial\n",
    "\n",
    "print(soma, np.exp(x), np.abs(soma/np.exp(x)-1))\n",
    "    "
   ]
  },
  {
   "cell_type": "code",
   "execution_count": null,
   "id": "b0262b38-0582-422b-8e32-1c1f9f621855",
   "metadata": {},
   "outputs": [],
   "source": [
    "x = 10\n",
    "M = 50 \n",
    "soma = 0\n",
    "an = 1\n",
    "for n in range(1,M+1):\n",
    "    soma += an\n",
    "    an *= x/(n+1)\n",
    "\n",
    "print("
   ]
  }
 ],
 "metadata": {
  "kernelspec": {
   "display_name": "Python 3 (ipykernel)",
   "language": "python",
   "name": "python3"
  },
  "language_info": {
   "codemirror_mode": {
    "name": "ipython",
    "version": 3
   },
   "file_extension": ".py",
   "mimetype": "text/x-python",
   "name": "python",
   "nbconvert_exporter": "python",
   "pygments_lexer": "ipython3",
   "version": "3.12.5"
  }
 },
 "nbformat": 4,
 "nbformat_minor": 5
}
