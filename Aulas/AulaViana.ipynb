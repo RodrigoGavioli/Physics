{
 "cells": [
  {
   "cell_type": "markdown",
   "id": "769e9e74-1372-4c70-a318-41a67c6066a1",
   "metadata": {},
   "source": [
    "### Series de taylor\n",
    "\n",
    "\\begin{align}\n",
    "    \\exp(x) = \\sum{\\frac{x^n}{n!}} \\\\\n",
    "    \\sin(x) = \\sum{(-1)^n \\frac{x^{2n+1}}{(2n+1)!}}\\\\\n",
    "    \\end{align}"
   ]
  },
  {
   "cell_type": "code",
   "execution_count": 4,
   "id": "56375421-bf21-42ac-93b1-ebf494ad5700",
   "metadata": {},
   "outputs": [
    {
     "name": "stdout",
     "output_type": "stream",
     "text": [
      "24\n",
      "22026.46579480671 22026.465794806718 3.3306690738754696e-16\n"
     ]
    }
   ],
   "source": [
    "import numpy as np\n",
    "import scipy\n",
    "import matplotlib.pyplot as pl \n",
    "\n",
    "x = 10\n",
    "M = 50\n",
    "soma = 0\n",
    "\n",
    "def fatorial(n):\n",
    "    fator = 1\n",
    "    for i in range(1,n+1):\n",
    "        fator *= i\n",
    "    return fator\n",
    "\n",
    "\n",
    "print(fatorial(4))\n",
    "for n in range(M):\n",
    "    soma += x**n/fatorial(n) #utilizar a função do scipy para o fatorial\n",
    "\n",
    "print(soma, np.exp(x), np.abs(soma/np.exp(x)-1))\n",
    "    "
   ]
  },
  {
   "cell_type": "code",
   "execution_count": 2,
   "id": "b0262b38-0582-422b-8e32-1c1f9f621855",
   "metadata": {},
   "outputs": [],
   "source": [
    "x = 10\n",
    "M = 50 \n",
    "soma = 0\n",
    "an = 1\n",
    "for n in range(1,M+1):\n",
    "    soma += an\n",
    "    an *= x/(n+1)\n",
    "\n"
   ]
  },
  {
   "cell_type": "markdown",
   "id": "f2e0dfa4",
   "metadata": {},
   "source": []
  },
  {
   "cell_type": "code",
   "execution_count": null,
   "id": "9b80bad4",
   "metadata": {},
   "outputs": [],
   "source": [
    "def f1(x):\n",
    "    return np.sin(x)\n",
    "\n",
    "def f2(x):\n",
    "    return x**2\n",
    "\n",
    "def mandar_fazer(ff, N): #Somar os valores de uma função\n",
    "    soma = 0\n",
    "    for i in range(N):\n",
    "        soma += ff(i)\n",
    "    return soma\n",
    "\n",
    "def mandar_fazer_sin(N):\n",
    "    soma = 0 \n",
    "    for i in range(N):\n",
    "        soma += np.sin(i)\n",
    "    return soma\n",
    "\n",
    "def mandar_fazer_x2(N):\n",
    "    soma = 0 \n",
    "    for i in range(N):\n",
    "        soma += i**2\n",
    "    return soma"
   ]
  },
  {
   "cell_type": "code",
   "execution_count": 17,
   "id": "3364ca30",
   "metadata": {},
   "outputs": [
    {
     "name": "stdout",
     "output_type": "stream",
     "text": [
      "Este é o tempo para uma função direta\n",
      "10.9 ms ± 686 μs per loop (mean ± std. dev. of 50 runs, 50 loops each)\n",
      "Este é o tempo para uma função indireta\n",
      "11.3 ms ± 325 μs per loop (mean ± std. dev. of 50 runs, 50 loops each)\n"
     ]
    }
   ],
   "source": [
    "print(\"Este é o tempo para uma função direta\")\n",
    "%timeit -r50 -n50 mandar_fazer_sin(10000) #sendo r o numero de runs, e o n o numero de vezes que ele vai rodar\n",
    "print(\"Este é o tempo para uma função indireta\")\n",
    "%timeit -r50 -n50 mandar_fazer(f1, 10000)"
   ]
  },
  {
   "cell_type": "markdown",
   "id": "35628074",
   "metadata": {},
   "source": [
    "Note que: o numpy cria arrays e estes, por sua vez tem elementos de matrizes que já são feitos automaticamente.\n",
    "por exemplo:"
   ]
  },
  {
   "cell_type": "code",
   "execution_count": 27,
   "id": "e8a76b16",
   "metadata": {},
   "outputs": [
    {
     "name": "stdout",
     "output_type": "stream",
     "text": [
      "Soma com numeros e matrizes: [ 3  4  5  6  7  8  9 10 11 12]\n",
      "Soma matriz com matriz: [ 2  4  6  8 10 12 14 16 18 20]\n",
      "Multiplicação de matriz por matriz: [  1   4   9  16  25  36  49  64  81 100]\n"
     ]
    }
   ],
   "source": [
    "Serie10 = np.array([1,2,3,4,5,6,7,8,9,10])\n",
    "Serie9 = np.array([1,2,3,4,5,6,7,8,9])\n",
    "print(\"Soma com numeros e matrizes:\",2+Serie10)\n",
    "\n",
    "print(\"Soma matriz com matriz:\", Serie10+Serie10)\n",
    "\n",
    "print(\"Multiplicação de matriz por matriz:\", Serie10*Serie10)\n",
    "\n",
    "#print(\"Multiplicação de matriz por Matriz:\", Serie9*Serie10)\n"
   ]
  },
  {
   "cell_type": "markdown",
   "id": "0d3fb91b",
   "metadata": {},
   "source": [
    "Veja que da erro quando tentamos multilpicar matrizes de tamanhos diferentes, é igual à operações no mundo real."
   ]
  },
  {
   "cell_type": "code",
   "execution_count": 42,
   "id": "afecf644",
   "metadata": {},
   "outputs": [
    {
     "name": "stdout",
     "output_type": "stream",
     "text": [
      "Uso da CPU: 3.3%\n",
      "Uso de memória: 85.4%\n"
     ]
    }
   ],
   "source": [
    "import psutil\n",
    "print(f\"Uso da CPU: {psutil.cpu_percent()}%\")\n",
    "print(f\"Uso de memória: {psutil.virtual_memory().percent}%\")"
   ]
  }
 ],
 "metadata": {
  "kernelspec": {
   "display_name": "Python 3",
   "language": "python",
   "name": "python3"
  },
  "language_info": {
   "codemirror_mode": {
    "name": "ipython",
    "version": 3
   },
   "file_extension": ".py",
   "mimetype": "text/x-python",
   "name": "python",
   "nbconvert_exporter": "python",
   "pygments_lexer": "ipython3",
   "version": "3.12.5"
  }
 },
 "nbformat": 4,
 "nbformat_minor": 5
}
